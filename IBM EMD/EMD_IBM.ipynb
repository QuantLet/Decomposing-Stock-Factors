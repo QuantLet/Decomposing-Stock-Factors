{
  "nbformat": 4,
  "nbformat_minor": 0,
  "metadata": {
    "colab": {
      "provenance": []
    },
    "kernelspec": {
      "name": "python3",
      "display_name": "Python 3"
    },
    "language_info": {
      "name": "python"
    }
  },
  "cells": [
    {
      "cell_type": "code",
      "execution_count": 26,
      "metadata": {
        "colab": {
          "base_uri": "https://localhost:8080/"
        },
        "id": "dXhJ-kUfzC4N",
        "outputId": "d41c61df-0833-4b4b-88d2-154b94159a22"
      },
      "outputs": [
        {
          "output_type": "stream",
          "name": "stdout",
          "text": [
            "Drive already mounted at /content/drive; to attempt to forcibly remount, call drive.mount(\"/content/drive\", force_remount=True).\n"
          ]
        }
      ],
      "source": [
        "import numpy as np\n",
        "import pandas as pd\n",
        "import matplotlib.pyplot as plt\n",
        "from PyEMD import EMD\n",
        "from google.colab import drive\n",
        "import matplotlib.dates as mdates\n",
        "drive.mount('/content/drive')\n",
        "excel_path = \"/content/drive/MyDrive/IBM.xlsx\""
      ]
    },
    {
      "cell_type": "code",
      "source": [
        "# Load mvel1 from a local Excel file (in Colab folder)\n",
        "def load_mvel1_from_excel(path):\n",
        "    df = pd.read_excel(path)\n",
        "\n",
        "    # Parse the 'DATE' column\n",
        "    df['DATE'] = pd.to_datetime(df['DATE'])\n",
        "    df = df.set_index('DATE')\n",
        "\n",
        "    # Drop missing values\n",
        "    mvel1 = df['mvel1'].dropna()\n",
        "\n",
        "    return mvel1\n",
        "\n",
        "# Perform EMD and return only IMF1\n",
        "def get_imf1(series):\n",
        "    emd = EMD()\n",
        "    IMFs = emd(series.values)\n",
        "    return IMFs[0]  # Only IMF1\n",
        "\n",
        "import matplotlib.dates as mdates\n",
        "\n",
        "def plot_data_and_imf1(series, imf1):\n",
        "    fig, axs = plt.subplots(2, 1, figsize=(12, 6), facecolor='none')  # transparent figure\n",
        "\n",
        "    # Plot mvel1\n",
        "    axs[0].plot(series.index, series, label = 'Original', color='deepskyblue', linewidth=2.5)\n",
        "    axs[0].legend()\n",
        "    axs[0].xaxis.set_major_formatter(mdates.DateFormatter('%Y'))\n",
        "    axs[0].xaxis.set_major_locator(mdates.YearLocator(base=5))\n",
        "    axs[0].set_facecolor('none')  # transparent axes background\n",
        "\n",
        "    # Plot IMF1\n",
        "    axs[1].plot(series.index, imf1,label = 'IMF 1', color='deepskyblue', linewidth=2.5)\n",
        "    axs[1].legend()\n",
        "    axs[1].xaxis.set_major_formatter(mdates.DateFormatter('%Y'))\n",
        "    axs[1].xaxis.set_major_locator(mdates.YearLocator(base=5))\n",
        "    axs[1].set_facecolor('none')  # transparent axes background\n",
        "\n",
        "    plt.tight_layout()\n",
        "    plt.show()\n",
        "\n",
        "# Main\n",
        "if __name__ == \"__main__\":\n",
        "    excel_path = \"/content/drive/MyDrive/IBM.xlsx\"  # Replace with your actual file path\n",
        "    mvel1_series = load_mvel1_from_excel(excel_path)\n",
        "    imf1 = get_imf1(mvel1_series)\n",
        "    plot_data_and_imf1(mvel1_series, imf1)"
      ],
  ]
}
